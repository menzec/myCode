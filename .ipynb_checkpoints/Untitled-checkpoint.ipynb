{
 "cells": [
  {
   "cell_type": "code",
   "execution_count": 1,
   "metadata": {},
   "outputs": [],
   "source": [
    "import requests\n",
    "from bs4 import BeautifulSoup\n",
    "import os\n",
    "import re\n",
    "import bs4\n",
    "\n",
    "\n",
    "\n",
    "\n"
   ]
  },
  {
   "cell_type": "code",
   "execution_count": 2,
   "metadata": {},
   "outputs": [],
   "source": [
    "s = requests.Session()\n",
    "url = 'https://baike.baidu.com/item/%E4%BC%8A%E9%80%9A%E7%81%AB%E5%B1%B1%E7%BE%A4%E5%9B%BD%E5%AE%B6%E7%BA%A7%E8%87%AA%E7%84%B6%E4%BF%9D%E6%8A%A4%E5%8C%BA/8758896'\n",
    "# Cookie  = 'BIDUPSID=B3F8382F59B7C5BAC977700953703BC1; PSTM=1510409949; BAIDUID=018D8A7A013359893B1066ABAE61853A:FG=1; __cfduid=d92ac5c0d7dea35057f395a9a7b2b2b951525274842; BDUSS=HdyTEpkekxMZzJINlA0LW0ybUh0ZmFVMDNFWjR0dTNPZ2xxaWltR0V3eXNVSHBiQVFBQUFBJCQAAAAAAAAAAAEAAADCr1J1u~rWx7XE5ue087TzAAAAAAAAAAAAAAAAAAAAAAAAAAAAAAAAAAAAAAAAAAAAAAAAAAAAAAAAAAAAAAAAAAAAAKzDUlusw1JbN; delPer=0; pgv_pvi=4423961600; pgv_si=s4874264576; BDRCVFR[nnelRoIzZZm]=mk3SLVN4HKm; PSINO=1; MCITY=-%3A; BDRCVFR[dG2JNJb_ajR]=mk3SLVN4HKm; BDRCVFR[-pGxjrCMryR]=mk3SLVN4HKm; ZD_ENTRY=baidu; Hm_lvt_55b574651fcae74b0a9f1cf9c8d7c93a=1542679052,1542683848,1542698420,1542699539; Hm_lpvt_55b574651fcae74b0a9f1cf9c8d7c93a=1542699539; H_PS_PSSID=1441_21112_27509'\n",
    "# User_Agent = 'Mozilla/5.0 (Windows NT 10.0; Win64; x64) AppleWebKit/537.36 (KHTML, like Gecko) Chrome/66.0.3359.139 Safari/537.36'\n",
    "# Referer = 'https://baike.baidu.com/item/%E4%B8%AD%E5%9B%BD%E8%87%AA%E7%84%B6%E4%BF%9D%E6%8A%A4%E5%8C%BA'\n",
    "# headers = {'Cookie':Cookie,'User-Agent':User_Agent,'Referer':Referer}\n",
    "s.headers['User-Agent'] = 'Mozilla/5.0 (Windows NT 10.0; Win64; x64) AppleWebKit/537.36 (KHTML, like Gecko) Chrome/66.0.3359.139 Safari/537.36'\n",
    "r = s.get(url)\n",
    "r.encoding = 'gbk2312'\n",
    "rawhtml = r.text\n",
    "soup = BeautifulSoup(rawhtml, 'html.parser')\n",
    "main = soup.find(attrs = {\"class\":\"main-content\"})\n",
    "print(main.contents)"
   ]
  },
  {
   "cell_type": "code",
   "execution_count": 5,
   "metadata": {},
   "outputs": [
    {
     "name": "stdout",
     "output_type": "stream",
     "text": [
      "<div class=\"para-title level-2\" label-module=\"para-title\">\n",
      "<h2 class=\"title-text\"><span class=\"title-prefix\">伊通火山群国家级自然保护区</span>历史沿革</h2>\n",
      "<a class=\"edit-icon j-edit-link\" data-edit-dl=\"1\" href=\"javascript:;\"><em class=\"cmn-icon wiki-lemma-icons wiki-lemma-icons_edit-lemma\"></em>编辑</a>\n",
      "</div>\n",
      "9\n",
      "<div class=\"para-title level-2\" label-module=\"para-title\">\n",
      "<h2 class=\"title-text\"><span class=\"title-prefix\">伊通火山群国家级自然保护区</span>地理环境</h2>\n",
      "<a class=\"edit-icon j-edit-link\" data-edit-dl=\"2\" href=\"javascript:;\"><em class=\"cmn-icon wiki-lemma-icons wiki-lemma-icons_edit-lemma\"></em>编辑</a>\n",
      "</div>\n",
      "12\n",
      "<div class=\"para-title level-2\" label-module=\"para-title\">\n",
      "<h2 class=\"title-text\"><span class=\"title-prefix\">伊通火山群国家级自然保护区</span>保护对象</h2>\n",
      "<a class=\"edit-icon j-edit-link\" data-edit-dl=\"3\" href=\"javascript:;\"><em class=\"cmn-icon wiki-lemma-icons wiki-lemma-icons_edit-lemma\"></em>编辑</a>\n",
      "</div>\n",
      "29\n",
      "<div class=\"para-title level-2\" label-module=\"para-title\">\n",
      "<h2 class=\"title-text\"><span class=\"title-prefix\">伊通火山群国家级自然保护区</span>功能区划</h2>\n",
      "<a class=\"edit-icon j-edit-link\" data-edit-dl=\"4\" href=\"javascript:;\"><em class=\"cmn-icon wiki-lemma-icons wiki-lemma-icons_edit-lemma\"></em>编辑</a>\n",
      "</div>\n",
      "32\n",
      "<div class=\"para-title level-2\" label-module=\"para-title\">\n",
      "<h2 class=\"title-text\"><span class=\"title-prefix\">伊通火山群国家级自然保护区</span>保护措施</h2>\n",
      "<a class=\"edit-icon j-edit-link\" data-edit-dl=\"5\" href=\"javascript:;\"><em class=\"cmn-icon wiki-lemma-icons wiki-lemma-icons_edit-lemma\"></em>编辑</a>\n",
      "</div>\n",
      "37\n",
      "<div class=\"para-title level-2\" label-module=\"para-title\">\n",
      "<h2 class=\"title-text\"><span class=\"title-prefix\">伊通火山群国家级自然保护区</span>保护价值</h2>\n",
      "<a class=\"edit-icon j-edit-link\" data-edit-dl=\"6\" href=\"javascript:;\"><em class=\"cmn-icon wiki-lemma-icons wiki-lemma-icons_edit-lemma\"></em>编辑</a>\n",
      "</div>\n",
      "43\n",
      "[9, 12, 29, 32, 37, 43]\n",
      "<div class=\"configModuleBanner\">\n",
      "</div>\n"
     ]
    }
   ],
   "source": [
    "num = 0\n",
    "info = []\n",
    "for i in main.contents:  \n",
    "    try:\n",
    "        if i.attrs['class'] == ['para-title', 'level-2']:\n",
    "            print(i)\n",
    "            print(num)\n",
    "            info.append(num)\n",
    "    except (KeyError,AttributeError) as err:\n",
    "        pass\n",
    "        continue\n",
    "    num+=1\n",
    "print(info)\n",
    "print(main.contents[10])"
   ]
  },
  {
   "cell_type": "code",
   "execution_count": null,
   "metadata": {},
   "outputs": [],
   "source": []
  }
 ],
 "metadata": {
  "kernelspec": {
   "display_name": "Python 3",
   "language": "python",
   "name": "python3"
  },
  "language_info": {
   "codemirror_mode": {
    "name": "ipython",
    "version": 3
   },
   "file_extension": ".py",
   "mimetype": "text/x-python",
   "name": "python",
   "nbconvert_exporter": "python",
   "pygments_lexer": "ipython3",
   "version": "3.6.7"
  }
 },
 "nbformat": 4,
 "nbformat_minor": 2
}
