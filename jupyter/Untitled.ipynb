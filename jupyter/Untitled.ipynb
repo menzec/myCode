{
 "cells": [
  {
   "cell_type": "code",
   "execution_count": 180,
   "metadata": {},
   "outputs": [],
   "source": [
    "import requests\n",
    "from bs4 import BeautifulSoup\n",
    "import os\n",
    "import re\n",
    "import bs4"
   ]
  },
  {
   "cell_type": "code",
   "execution_count": 181,
   "metadata": {},
   "outputs": [],
   "source": [
    "s = requests.Session()\n",
    "url = 'https://baike.baidu.com/item/%E4%BC%8A%E9%80%9A%E7%81%AB%E5%B1%B1%E7%BE%A4%E5%9B%BD%E5%AE%B6%E7%BA%A7%E8%87%AA%E7%84%B6%E4%BF%9D%E6%8A%A4%E5%8C%BA/8758896'\n",
    "s.headers['User-Agent'] = 'Mozilla/5.0 (Windows NT 10.0; Win64; x64) AppleWebKit/537.36 (KHTML, like Gecko) Chrome/66.0.3359.139 Safari/537.36'\n",
    "r = s.get(url)\n",
    "r.encoding = 'gbk2312'\n",
    "rawhtml = r.text\n",
    "soup = BeautifulSoup(rawhtml, 'html.parser')\n",
    "# soup"
   ]
  },
  {
   "cell_type": "code",
   "execution_count": 182,
   "metadata": {},
   "outputs": [],
   "source": [
    "main = soup.find(attrs = {\"class\":\"main-content\"})"
   ]
  },
  {
   "cell_type": "code",
   "execution_count": 183,
   "metadata": {},
   "outputs": [],
   "source": [
    "all_para = main.find_all(\"div\",class_ = \"para\")\n",
    "# print(all_para[-1])"
   ]
  },
  {
   "cell_type": "code",
   "execution_count": 184,
   "metadata": {},
   "outputs": [],
   "source": [
    "new = []\n",
    "for son in main.contents:\n",
    "    if son != \"\\n\":\n",
    "        new.append(son)\n",
    "# new"
   ]
  },
  {
   "cell_type": "code",
   "execution_count": 185,
   "metadata": {},
   "outputs": [],
   "source": [
    "last_para = new.index(all_para[-1])\n",
    "# print(last_para)\n",
    "deadline = last_para+1\n",
    "# print(deadline)"
   ]
  },
  {
   "cell_type": "code",
   "execution_count": 205,
   "metadata": {},
   "outputs": [
    {
     "name": "stdout",
     "output_type": "stream",
     "text": [
      "[10, 13, 30, 33, 38, 44, 49]\n"
     ]
    }
   ],
   "source": [
    "num = 0\n",
    "wang = []\n",
    "for i in new:\n",
    "    \n",
    "    try:\n",
    "        if i.attrs['class'] == ['para-title', 'level-2']:\n",
    "#             print(i)\n",
    "#             print(num)\n",
    "            \n",
    "            wang.append(num)\n",
    "    except KeyError:\n",
    "        pass\n",
    "        \n",
    "    num+=1\n",
    "wang.append(deadline)\n",
    "print(wang)"
   ]
  },
  {
   "cell_type": "code",
   "execution_count": 202,
   "metadata": {
    "scrolled": true
   },
   "outputs": [
    {
     "name": "stdout",
     "output_type": "stream",
     "text": [
      "[<div class=\"para\" label-module=\"para\">1983年10月保护区成立，1985年12月晋为省级自然保护区，1992年10月经国务院批准而升为国家级自然保护区。<sup class=\"sup--normal\" data-sup=\"1\">\n",
      "[1]</sup><a class=\"sup-anchor\" name=\"ref_[1]_481595\"> </a>\n",
      "</div>, <div class=\"anchor-list\">\n",
      "<a class=\"lemma-anchor para-title\" name=\"2\"></a>\n",
      "<a class=\"lemma-anchor \" name=\"sub481595_2\"></a>\n",
      "<a class=\"lemma-anchor \" name=\"地理环境\"></a>\n",
      "</div>]\n"
     ]
    }
   ],
   "source": [
    "zong = []\n",
    "i = 0\n",
    "while i < len(wang)-1:\n",
    "    ddd = new[wang[i]+1:wang[i+1]]\n",
    "    zong.append(ddd)\n",
    "    i+=1\n",
    "# print(zong)"
   ]
  },
  {
   "cell_type": "code",
   "execution_count": 206,
   "metadata": {
    "scrolled": true
   },
   "outputs": [
    {
     "name": "stdout",
     "output_type": "stream",
     "text": [
      "part______________\n",
      "1983年10月保护区成立，1985年12月晋为省级自然保护区，1992年10月经国务院批准而升为国家级自然保护区。\n",
      "part______________\n",
      "位置境域\n",
      "\n",
      "吉林伊通火山群国家级自然保护区位于吉林省中南部的长春市、四平市、公主岭市和伊通满族自治县、三市一县九个乡镇境内，北靠长春市，南与辽源市接壤，西临公主岭市，东与双阳市和磐石市毗连。地理坐标为东经124°50′—125°22′，北纬43°14′—43°35′，分布面积达600余平方公里，区内的16座火山锥及周围的划定区域，总面积764.8公顷，其中核心区405.8公顷，缓冲区359公顷。\n",
      "地貌\n",
      "\n",
      "保护区位于辽吉山地与松辽平原的过渡地带，东部为辽吉山地，山地高度向东逐渐增加，海拔高度一般大于500m，属于中山丘陵；西部为北东向延伸的大黑山地垒山，海拔高度一般低于500m，属于低山丘陵。伊通火山群处于我国东部巨型构造—郯庐断裂带的北延段主要分支断裂带内，即伊舒地堑盆地内。火山锥体形似钟乳峰拔起，沿北东方向，成两列分布在伊通盆地的平川之上。主要地貌类型有：断块山地、断陷平原、地堑盆地和垒山等。海拔高度一般在300—600m之间，相对高度在200m左右。\n",
      "气候\n",
      "保护区所在地区，属北温带大陆性季风气候，主要特点是春季风大干燥，夏季湿热多雨，秋季天高气爽，冬季寒冷漫长。年均气温4.7℃，极端最高温度为35℃，极端最低温度为38℃；多年平均降雨量为630mm；常年多东南风，多年平均风速为3.22m/s，无霜期为120—130天。\n",
      "水文\n",
      "伊通河从西南向北曲折流经本区，水深（大）2.5m，年均流速5m/s，流域面积为398.3km2，隶属饮马河水系；孤山河和小孤山河属东辽水系，其流域面积、流速、流量均较小。\n",
      "土壤\n",
      "保护区内主要土壤类型有白浆土、黑土、棕壤、沼泽土、冲积土、泥炭土和石质土等11种土类。\n",
      "part______________\n",
      "保护区主要保护对象是基性玄武岩“侵出式”这一独特的火山成因机制、奇特的火山景观。\n",
      "part______________\n",
      "保护区内16座火山锥体都是孤立而分散的，从保护价值的角度，把它们分成三个保护级别。在分类保护的基础上，根据国家对保护区功能区划的规定，结合地质遗迹类自然保护区的特点和本区的实际情况，把火山锥体的保护范围按照其出露的规模，划分为核心区和缓冲区，总面积为764.8公顷。\n",
      "核心区：以每座火山锥体的基座范围划定为核心区，面积为405.8公顷，占保护总面积的53.1%。\n",
      "缓冲区：每座火山锥体基座向外围延伸一定的范围（500米）作为缓冲区，总面积为359.0公顷，占保护总面积的46.9%。\n",
      "part______________\n",
      "保护机构\n",
      "伊通火山群自然保护区管理局成立于1985年9月，其前身是伊通火山群自然保护区管理所。为吉林省环境保护厅下属正处级事业单位，核定处级领导职数2名（一正一副），管理局内设行政管理办公室、技术科、管护科，下设4个基层管理站。\n",
      "管理现状\n",
      "保护区管理局下设的各科室分工明确，职责清晰，责任落实到人。制定了严格的岗位责任制，实行了局、科、站三级专业管护网络，使日常管理、运行得到了充分保障。成立保护区管理局后，该局认真开展了保护区日常监测、监视和保护、建设工作，聘请了有关专家对保护区内16座火山锥体进行了踏查、测量，并绘制出图件，合理地划定了保护区区界，埋设了标桩，在全国自然保护区中率先完成了划界立标工作。\n",
      "part______________\n",
      "科研价值\n",
      "保护区是国内外科研单位和大专院校进行科研、科考和教学实习的基地，是开展科普教育和人才培养的重要场所。美国国家联邦地质调查局、法国巴黎第七大学、日本京都大学、广岛大学、意大利罗马大学、西班牙扎拉构扎大学、加拿大哥伦比亚大学、俄罗斯海参崴国立科 技大学、美国铁雪伦石油公司、德国汉诺威古生物研究所及第三十届地质大会的东北科考小组等，都数次来保护区进行科研、科考活动。国家环保总局、国家地矿部、农业部、国家民委、国务院编委、中顾委、全国人大、国家地震研究所、中科院地研所、东北师大、吉林大学、长春科技大学等领导同志，各界知名人士、科研单位及大专院校师生先后来伊通火山群进行科研、科考、科普与教学活动。\n",
      "生态价值\n",
      "伊通火山群形成于新生代第三纪渐新世至上新世，距今约有3380万年——870万年，该火山群保存着大量的深源橄榄包体，其丰富程度和标准是中国国内和国际上其它火山所不具有的。\n"
     ]
    }
   ],
   "source": [
    "for level_2 in zong:\n",
    "    print(\"part______________\")\n",
    "    for son_tag in level_2:\n",
    "        if son_tag.name == \"div\":\n",
    "            if son_tag.attrs['class'] == ['para-title', 'level-3']:\n",
    "                for bitch in son_tag.h3:\n",
    "                    if type(bitch) == bs4.element.NavigableString:\n",
    "                        erjibiaoti = bitch\n",
    "                        print(bitch)\n",
    "                    else:\n",
    "                        erjibiaoti = \"\"\n",
    "            elif son_tag.b is not None:\n",
    "                xiaobiaoti = son_tag.b.text\n",
    "                print(son_tag.b.text)\n",
    "            else:\n",
    "                xiaobiaoti = \"\"\n",
    "        for erzi in son_tag:\n",
    "            if type(erzi) == bs4.element.NavigableString:\n",
    "                if erzi != \"\\n\":\n",
    "                    neirong = erzi\n",
    "                    print(erzi)\n",
    "                else:\n",
    "                    pass\n",
    "            else:\n",
    "                pass\n",
    "\n",
    "        \n",
    "                \n",
    "                "
   ]
  },
  {
   "cell_type": "code",
   "execution_count": 188,
   "metadata": {},
   "outputs": [
    {
     "data": {
      "text/plain": [
       "'伊通火山群国家级自然保护区'"
      ]
     },
     "execution_count": 188,
     "metadata": {},
     "output_type": "execute_result"
    }
   ],
   "source": [
    "title = soup.find(\"dd\",attrs = {\"class\":\"lemmaWgt-lemmaTitle-title\"})\n",
    "res_name = title.h1.text\n",
    "res_name"
   ]
  },
  {
   "cell_type": "code",
   "execution_count": 189,
   "metadata": {},
   "outputs": [
    {
     "data": {
      "text/plain": [
       "'\\n伊通火山群国家级自然保护区位于吉林省中南部的长春市、四平市、公主岭市和伊通满族自治县、三市一县九个乡镇境内，北靠长春市，南与辽源市接壤，西临公主岭市，东与双阳市和磐石市毗连。地理坐标为东经124°50′—125°22′，北纬43°14′—43°35′，总面积764.8公顷。保护区成立于1983年，1992年升级为国家级自然保护区，主要保护对象为基性玄武岩“侵出式”这一独特的火山成因机制、奇特的火山景观。\\n'"
      ]
     },
     "execution_count": 189,
     "metadata": {},
     "output_type": "execute_result"
    }
   ],
   "source": [
    "summary = soup.find(\"div\",attrs = {\"class\":\"lemma-summary\"})\n",
    "res_sum = summary.text\n",
    "res_sum"
   ]
  },
  {
   "cell_type": "code",
   "execution_count": 190,
   "metadata": {},
   "outputs": [
    {
     "name": "stdout",
     "output_type": "stream",
     "text": [
      "['历史沿革', '地理环境', '保护对象', '功能区划', '保护措施', '保护价值']\n"
     ]
    }
   ],
   "source": [
    "catlist = []\n",
    "catlog = soup.find_all(\"li\",attrs = {\"class\":\"level1\"})\n",
    "for cat in catlog:\n",
    "    catlist.append(cat.a.text)\n",
    "print(catlist)\n"
   ]
  },
  {
   "cell_type": "code",
   "execution_count": 169,
   "metadata": {},
   "outputs": [
    {
     "name": "stdout",
     "output_type": "stream",
     "text": [
      "https://baike.baidu.com/item/%E5%8C%97%E4%BA%AC%E6%9D%BE%E5%B1%B1%E5%9B%BD%E5%AE%B6%E7%BA%A7%E8%87%AA%E7%84%B6%E4%BF%9D%E6%8A%A4%E5%8C%BA\n",
      "\n"
     ]
    }
   ],
   "source": [
    "# filename = r\"C:\\Users\\王骁\\Desktop\\自然保护区\\ssr.txt\"\n",
    "# with open(filename,\"r\",encoding = \"utf-8\") as fn:\n",
    "#     line = fn.readline()\n",
    "#     print(line)"
   ]
  },
  {
   "cell_type": "code",
   "execution_count": 171,
   "metadata": {},
   "outputs": [],
   "source": [
    "import pandas as pd"
   ]
  },
  {
   "cell_type": "code",
   "execution_count": 176,
   "metadata": {},
   "outputs": [],
   "source": [
    "df = pd.DataFrame(index = [res_name],columns = [u'简介'] + catlist)"
   ]
  },
  {
   "cell_type": "code",
   "execution_count": 177,
   "metadata": {},
   "outputs": [
    {
     "data": {
      "text/html": [
       "<div>\n",
       "<style scoped>\n",
       "    .dataframe tbody tr th:only-of-type {\n",
       "        vertical-align: middle;\n",
       "    }\n",
       "\n",
       "    .dataframe tbody tr th {\n",
       "        vertical-align: top;\n",
       "    }\n",
       "\n",
       "    .dataframe thead th {\n",
       "        text-align: right;\n",
       "    }\n",
       "</style>\n",
       "<table border=\"1\" class=\"dataframe\">\n",
       "  <thead>\n",
       "    <tr style=\"text-align: right;\">\n",
       "      <th></th>\n",
       "      <th>简介</th>\n",
       "      <th>历史沿革</th>\n",
       "      <th>地理环境</th>\n",
       "      <th>保护对象</th>\n",
       "      <th>功能区划</th>\n",
       "      <th>保护措施</th>\n",
       "      <th>保护价值</th>\n",
       "    </tr>\n",
       "  </thead>\n",
       "  <tbody>\n",
       "    <tr>\n",
       "      <th>伊通火山群国家级自然保护区</th>\n",
       "      <td>NaN</td>\n",
       "      <td>NaN</td>\n",
       "      <td>NaN</td>\n",
       "      <td>NaN</td>\n",
       "      <td>NaN</td>\n",
       "      <td>NaN</td>\n",
       "      <td>NaN</td>\n",
       "    </tr>\n",
       "  </tbody>\n",
       "</table>\n",
       "</div>"
      ],
      "text/plain": [
       "                简介 历史沿革 地理环境 保护对象 功能区划 保护措施 保护价值\n",
       "伊通火山群国家级自然保护区  NaN  NaN  NaN  NaN  NaN  NaN  NaN"
      ]
     },
     "execution_count": 177,
     "metadata": {},
     "output_type": "execute_result"
    }
   ],
   "source": []
  },
  {
   "cell_type": "code",
   "execution_count": null,
   "metadata": {},
   "outputs": [],
   "source": []
  }
 ],
 "metadata": {
  "kernelspec": {
   "display_name": "Python 3",
   "language": "python",
   "name": "python3"
  },
  "language_info": {
   "codemirror_mode": {
    "name": "ipython",
    "version": 3
   },
   "file_extension": ".py",
   "mimetype": "text/x-python",
   "name": "python",
   "nbconvert_exporter": "python",
   "pygments_lexer": "ipython3",
   "version": "3.6.7"
  }
 },
 "nbformat": 4,
 "nbformat_minor": 2
}
