{
 "cells": [
  {
   "cell_type": "markdown",
   "metadata": {},
   "source": [
    "# 元类"
   ]
  },
  {
   "cell_type": "code",
   "execution_count": 21,
   "metadata": {},
   "outputs": [],
   "source": [
    "import os\n",
    "import sys"
   ]
  },
  {
   "cell_type": "code",
   "execution_count": 1,
   "metadata": {},
   "outputs": [
    {
     "name": "stdout",
     "output_type": "stream",
     "text": [
      "<class 'int'>\n"
     ]
    }
   ],
   "source": [
    "num = 6\n",
    "print(num.__class__)"
   ]
  },
  {
   "cell_type": "code",
   "execution_count": 12,
   "metadata": {},
   "outputs": [
    {
     "name": "stdout",
     "output_type": "stream",
     "text": [
      "[0, 1, 2, 3]\n",
      "<generator object <genexpr> at 0x00000219533EED00>\n"
     ]
    },
    {
     "data": {
      "text/plain": [
       "0"
      ]
     },
     "execution_count": 12,
     "metadata": {},
     "output_type": "execute_result"
    }
   ],
   "source": [
    "L = [x for x in range(4)]\n",
    "print(L)\n",
    "G= (x for x in range(5))\n",
    "print(G)\n"
   ]
  },
  {
   "cell_type": "code",
   "execution_count": 3,
   "metadata": {},
   "outputs": [
    {
     "name": "stdout",
     "output_type": "stream",
     "text": [
      "1\n",
      "1\n",
      "2\n"
     ]
    }
   ],
   "source": [
    "def fab(max): \n",
    "    n, a, b = 0, 0, 1 \n",
    "    while n < max: \n",
    "        yield b \n",
    "        # print b \n",
    "        a, b = b, a + b \n",
    "        n = n + 1\n",
    "        \n",
    "f = fab(3)\n",
    "for num in f:\n",
    "     print(num)"
   ]
  },
  {
   "cell_type": "code",
   "execution_count": 12,
   "metadata": {},
   "outputs": [
    {
     "name": "stdout",
     "output_type": "stream",
     "text": [
      "1438968240072\n",
      "1438968240072\n"
     ]
    },
    {
     "ename": "ValueError",
     "evalue": "23 is not in list",
     "output_type": "error",
     "traceback": [
      "\u001b[1;31m---------------------------------------------------------------------------\u001b[0m",
      "\u001b[1;31mValueError\u001b[0m                                Traceback (most recent call last)",
      "\u001b[1;32m<ipython-input-12-b449aeddad88>\u001b[0m in \u001b[0;36m<module>\u001b[1;34m()\u001b[0m\n\u001b[0;32m      3\u001b[0m \u001b[0ma\u001b[0m\u001b[1;33m.\u001b[0m\u001b[0mappend\u001b[0m\u001b[1;33m(\u001b[0m\u001b[1;36m55\u001b[0m\u001b[1;33m)\u001b[0m\u001b[1;33m\u001b[0m\u001b[0m\n\u001b[0;32m      4\u001b[0m \u001b[0mprint\u001b[0m\u001b[1;33m(\u001b[0m\u001b[0mid\u001b[0m\u001b[1;33m(\u001b[0m\u001b[0ma\u001b[0m\u001b[1;33m)\u001b[0m\u001b[1;33m)\u001b[0m\u001b[1;33m\u001b[0m\u001b[0m\n\u001b[1;32m----> 5\u001b[1;33m \u001b[0ma\u001b[0m\u001b[1;33m.\u001b[0m\u001b[0mindex\u001b[0m\u001b[1;33m(\u001b[0m\u001b[1;36m23\u001b[0m\u001b[1;33m)\u001b[0m\u001b[1;33m\u001b[0m\u001b[0m\n\u001b[0m",
      "\u001b[1;31mValueError\u001b[0m: 23 is not in list"
     ]
    }
   ],
   "source": [
    "a = [11,22,33]\n",
    "print(id(a))\n",
    "a.append(55)\n",
    "print(id(a))\n",
    "a.index(23)"
   ]
  },
  {
   "cell_type": "code",
   "execution_count": 25,
   "metadata": {},
   "outputs": [
    {
     "name": "stdout",
     "output_type": "stream",
     "text": [
      "19\n",
      "<class 'str'>\n",
      "b'()()())\\xe6\\x88\\x91\\xe7\\x88\\xb1\\xe4\\xbd\\xa0\\xe4\\xb8\\xad\\xe5\\x9b\\xbd 01\\n 1\\n'\n",
      "29\n",
      "<class 'bytes'>\n",
      "()()())我爱你中国 01\n",
      " 1\n",
      "\n",
      "()()())我爱你中国 01\n",
      " 1\n",
      "()()())我爱你中国 01\n",
      " 1\n",
      "\n"
     ]
    }
   ],
   "source": [
    "mystr = '()()())我爱你中国 01\\n 1\\n'\n",
    "print(len(mystr))\n",
    "print(type(mystr))\n",
    "mystr_utf8 = mystr.encode(encoding='utf-8')\n",
    "print(mystr_utf8)\n",
    "print(len(mystr_utf8))\n",
    "print(type(mystr_utf8))\n",
    "print(mystr_utf8.decode('UTF-8','strict'))\n",
    "print(mystr.strip())\n",
    "print(mystr)"
   ]
  },
  {
   "cell_type": "code",
   "execution_count": 6,
   "metadata": {},
   "outputs": [
    {
     "name": "stdout",
     "output_type": "stream",
     "text": [
      "a\n",
      " [[ 1  2  3  4]\n",
      " [ 5  6  7  8]\n",
      " [ 9 10 11 12]\n",
      " [13 14 15 16]]\n",
      "a[1:3,0:2]\n",
      " [[ 5  6]\n",
      " [ 9 10]]\n",
      "a[:,:2]\n",
      " [[ 1  2]\n",
      " [ 5  6]\n",
      " [ 9 10]\n",
      " [13 14]]\n",
      "a.shape:\n",
      " (4, 4)\n"
     ]
    }
   ],
   "source": [
    "import numpy as np\n",
    "a=np.array([[1,2,3,4],\n",
    "  [5,6,7,8],\n",
    "  [9,10,11,12],\n",
    "  [13,14,15,16]])\n",
    "print('a\\n',a)\n",
    "print('a[1:3,0:2]\\n',a[1:3,0:2])\n",
    "print('a[:,:2]\\n',a[:,:2])\n",
    "print('a.shape:\\n',a.shape)"
   ]
  },
  {
   "cell_type": "code",
   "execution_count": 21,
   "metadata": {},
   "outputs": [
    {
     "name": "stdout",
     "output_type": "stream",
     "text": [
      "2.9989\n",
      "5.4989\n",
      "('C:/Users/liuxiaolong/PycharmProjects/untitled\\\\sw724', '.vaps')\n"
     ]
    }
   ],
   "source": [
    "import os\n",
    "str1 = '2125,4513'\n",
    "int(str1[:str1.find(',')])\n",
    "int(str1[str1.find(',')+1:])\n",
    "print(4.2489-640/256/2)\n",
    "print(4.2489+640/256/2)\n",
    "print(os.path.splitext('C:/Users/liuxiaolong/PycharmProjects/untitled\\sw724.vaps'))"
   ]
  },
  {
   "cell_type": "code",
   "execution_count": 27,
   "metadata": {},
   "outputs": [
    {
     "name": "stdout",
     "output_type": "stream",
     "text": [
      "[[4, 0], [0, 0], [0, 0], [0, 0], [0, 0], [0, 0], [0, 0], [0, 0], [0, 0], [0, 0]]\n",
      "[[2, 0], [2, 0], [2, 0], [2, 0], [2, 0]]\n"
     ]
    },
    {
     "data": {
      "text/plain": [
       "21"
      ]
     },
     "execution_count": 27,
     "metadata": {},
     "output_type": "execute_result"
    }
   ],
   "source": [
    "import numpy as np\n",
    "npzeros = np.eye((3))\n",
    "list_test2 = [[0,0]]*5\n",
    "list_test[0][0]+=2\n",
    "list_test2[0][0]+=2\n",
    "print(list_test)\n",
    "print(list_test2)\n",
    "len(('agricultural90', 'airplane90', 'baseballdiamond90', 'beach90', 'buildings90', 'chaparral90',\n",
    "                'denseresidential90', 'forest90', 'freeway90', 'golfcourse90', 'harbor90', 'intersection90',\n",
    "                'mediumresidential90', 'mobilehomepark90', 'overpass90', 'parkinglot90', 'river90', 'runway90',\n",
    "                'sparseresidential90', 'storagetanks90', 'tenniscourt90'))"
   ]
  },
  {
   "cell_type": "code",
   "execution_count": 3,
   "metadata": {
    "scrolled": true
   },
   "outputs": [
    {
     "name": "stdout",
     "output_type": "stream",
     "text": [
      "十\n",
      "二\n",
      "百\n",
      "五\n",
      "520\n",
      "-------------------------\n",
      "八\n",
      "十\n",
      "18\n",
      "-------------------------\n",
      "一\n",
      "零\n",
      "亿\n",
      "一\n",
      "100000001\n"
     ]
    }
   ],
   "source": [
    "common_used_numerals_tmp ={'零':0, '一':1, '二':2, '两':2, '三':3, '四':4, '五':5, '六':6, '七':7, '八':8, '九':9, '十':10, '百':100, '千':1000, '万':10000, '亿':100000000}\n",
    "# common_used_numerals= dict(zip(common_used_numerals_tmp.values(), common_used_numerals_tmp.keys())) #反转\n",
    "def chinese2digits(uchars_chinese):\n",
    "      total = 0\n",
    "      r = 1              #表示单位：个十百千...\n",
    "      for i in range(len(uchars_chinese) - 1, -1, -1):\n",
    "        print(uchars_chinese[i])\n",
    "        val = common_used_numerals_tmp.get(uchars_chinese[i])\n",
    "        if val >= 10 and i == 0:  #应对 十三 十四 十*之类\n",
    "          if val > r:\n",
    "            r = val\n",
    "            total = total + val\n",
    "          else:\n",
    "            r = r * val\n",
    "            #total =total + r * x\n",
    "        elif val >= 10:\n",
    "          if val > r:\n",
    "            r = val\n",
    "          else:\n",
    "            r = r * val\n",
    "        else:\n",
    "          total = total + r * val\n",
    "      return total\n",
    "print (chinese2digits('五百二十') )\n",
    "print ( \"-------------------------\" )\n",
    "print (  chinese2digits('十八') )\n",
    "print ( \"-------------------------\" )\n",
    "print ( chinese2digits('一亿零一'))\n"
   ]
  },
  {
   "cell_type": "code",
   "execution_count": 4,
   "metadata": {
    "scrolled": true
   },
   "outputs": [
    {
     "name": "stdout",
     "output_type": "stream",
     "text": [
      "520\n",
      "-------------------------\n",
      "18\n",
      "-------------------------\n",
      "100000001\n"
     ]
    }
   ],
   "source": [
    "CN_NUM = {\n",
    "    '〇' : 0, '一' : 1, '二' : 2, '三' : 3, '四' : 4, '五' : 5, '六' : 6, '七' : 7, '八' : 8, '九' : 9, '零' : 0,\n",
    "    '壹' : 1, '贰' : 2, '叁' : 3, '肆' : 4, '伍' : 5, '陆' : 6, '柒' : 7, '捌' : 8, '玖' : 9, '貮' : 2, '两' : 2,\n",
    "}\n",
    " \n",
    "CN_UNIT = {\n",
    "    '十' : 10,\n",
    "    '拾' : 10,\n",
    "    '百' : 100,\n",
    "    '佰' : 100,\n",
    "    '千' : 1000,\n",
    "    '仟' : 1000,\n",
    "    '万' : 10000,\n",
    "    '萬' : 10000,\n",
    "    '亿' : 100000000,\n",
    "    '億' : 100000000,\n",
    "    '兆' : 1000000000000,\n",
    "}\n",
    " \n",
    "def chinese_to_arabic(cn:str) -> int:\n",
    "    unit = 0   # current\n",
    "    ldig = []  # digest\n",
    "    for cndig in reversed(cn):\n",
    "        if cndig in CN_UNIT:\n",
    "            unit = CN_UNIT.get(cndig)\n",
    "            if unit == 10000 or unit == 100000000:\n",
    "                ldig.append(unit)\n",
    "                unit = 1\n",
    "        else:\n",
    "            dig = CN_NUM.get(cndig)\n",
    "            if unit:\n",
    "                dig *= unit\n",
    "                unit = 0\n",
    "            ldig.append(dig)\n",
    "    if unit == 10:\n",
    "        ldig.append(10)\n",
    "    val, tmp = 0, 0\n",
    "    for x in reversed(ldig):\n",
    "        if x == 10000 or x == 100000000:\n",
    "            val += tmp * x\n",
    "            tmp = 0\n",
    "        else:\n",
    "            tmp += x\n",
    "    val += tmp\n",
    "    return val\n",
    " \n",
    "print (chinese_to_arabic('五百二十') )\n",
    "print ( \"-------------------------\" )\n",
    "print (chinese_to_arabic('十八') )\n",
    "print ( \"-------------------------\" )\n",
    "print (chinese_to_arabic('一亿零一'))\n"
   ]
  },
  {
   "cell_type": "code",
   "execution_count": 6,
   "metadata": {
    "scrolled": true
   },
   "outputs": [
    {
     "name": "stdout",
     "output_type": "stream",
     "text": [
      "五佰六拾二\n"
     ]
    }
   ],
   "source": [
    "# -*- coding:utf-8 -*-\n",
    "'''中文财务数字转换程序.\n",
    "例如11111,可转换为:壹万壹仟壹佰壹拾壹\n",
    "\"万仟佰拾\"就是\"单位\",\"壹\"就是\"数值\"\n",
    "'''\n",
    "\n",
    "unitArab=(2,3,4,5,9)\n",
    "unitStr=u'十百千万亿'\n",
    "unitStr=u'拾佰仟万亿'\n",
    "#单位字典unitDic,例如(2,'十')表示给定的字符是两位数,那么返回的结果里面定会包含'十'.3,4,5,9以此类推.\n",
    "unitDic=dict(zip(unitArab,unitStr))\n",
    "\n",
    "numArab=u'0123456789'\n",
    "numStr=u'零一二三四五六七八九'\n",
    "# numStr=u'零壹贰叁肆伍陆柒捌玖'\n",
    "#数值字典numDic,和阿拉伯数字是简单的一一对应关系\n",
    "numDic=dict(zip(numArab,numStr))\n",
    "\n",
    "\n",
    "def ChnNumber(s):\n",
    "    def wrapper(v):\n",
    "        '''针对多位连续0的简写规则设计的函数\n",
    "        例如\"壹佰零零\"会变为\"壹佰\",\"壹仟零零壹\"会变为\"壹仟零壹\"\n",
    "        '''\n",
    "        if u'零零' in v:\n",
    "            return wrapper(v.replace(u'零零',u'零'))\n",
    "        return v[:-1] if v[-1]==u'零' else v\n",
    "    def recur(s,bit):\n",
    "        '''此函数接收2个参数:\n",
    "        1.纯数字字符串\n",
    "        2.此字符串的长度,相当于位数'''\n",
    "        #如果是一位数,则直接按numDic返回对应汉字\n",
    "        if bit==1:\n",
    "            return numDic[s]\n",
    "        #否则,且第一个字符是0,那么省略\"单位\"字符,返回\"零\"和剩余字符的递归字符串\n",
    "        if s[0]==u'0':\n",
    "            return wrapper(u'%s%s' % (u'零',recur(s[1:],bit-1)))\n",
    "        #否则,如果是2,3,4,5,9位数,那么返回最高位数的字符串\"数值\"+\"单位\"+\"剩余字符的递归字符串\"\n",
    "        if bit<6 or bit==9:\n",
    "            return wrapper(u'%s%s%s' % (numDic[s[0]],unitDic[bit],recur(s[1:],bit-1)))\n",
    "        #否则,如果是6,7,8位数,那么用\"万\"将字符串从万位数划分为2个部分.\n",
    "        #例如123456就变成:12+\"万\"+3456,再对两个部分进行递归.\n",
    "        if bit<9:\n",
    "            return u'%s%s%s' % (recur(s[:-4],bit-4),u\"万\",recur(s[-4:],4))\n",
    "        #否则(即10位数及以上),用\"亿\"仿照上面的做法进行划分.\n",
    "        if bit>9:\n",
    "            return u'%s%s%s' % (recur(s[:-8],bit-8),u\"亿\",recur(s[-8:],8))\n",
    "    return recur(s,len(s))\n",
    "\n",
    "print(ChnNumber('562'))\n",
    "# for i in range(18):    \n",
    "#     v1='9'+'0'*(i+1)\n",
    "#     v2='9'+'0'*i+'9'\n",
    "#     v3='1'*(i+2)\n",
    "#     print ('%s->%s\\n%s->%s\\n%s->%s'% (v1,ChnNumber(v1),v2,ChnNumber(v2),v3,ChnNumber(v3)))"
   ]
  },
  {
   "cell_type": "code",
   "execution_count": null,
   "metadata": {},
   "outputs": [],
   "source": [
    "s = \"dede323frf54de23\"\n",
    "l = len(s)\n",
    "  \n",
    "numbers = []\n",
    "  \n",
    "i = 0\n",
    "while i < l:\n",
    "    num = ''\n",
    "    symbol = s[i]\n",
    "    while '0' <= symbol <= '9': # symbol.isdigit()\n",
    "        num += symbol\n",
    "        i += 1\n",
    "        if i < l:\n",
    "            symbol = s[i]\n",
    "        else:\n",
    "            break\n",
    "    i += 1\n",
    "    if num != '':\n",
    "        numbers.append(num)\n",
    "  \n",
    "print(numbers)"
   ]
  },
  {
   "cell_type": "code",
   "execution_count": null,
   "metadata": {
    "scrolled": true
   },
   "outputs": [
    {
     "name": "stdout",
     "output_type": "stream",
     "text": [
      "> <ipython-input-1-d3de0c6139a2>(19)<module>()\n",
      "-> cv2.imwrite('%s/%s_label%s'%(save_dir,img_name[:-4],img_name[-4:]),img)\n",
      "(Pdb) '%s/%s_label%s'%(save_dir,img_name[:-4],img_name[-4:])\n",
      "'D:\\\\data\\\\AE176_CD_20170704\\\\img\\\\add_circle_L19\\\\add/Z19_L126.4766233_B37.4801842_label.png'\n",
      "(Pdb) img_name\n",
      "'Z19_L126.4766233_B37.4801842.png'\n",
      "(Pdb) plt.imshow(img)\n",
      "<matplotlib.image.AxesImage object at 0x0000024090818C18>\n",
      "(Pdb) next\n",
      "> <ipython-input-1-d3de0c6139a2>(20)<module>()\n",
      "-> print(img_name+'  finished!')\n",
      "(Pdb) next\n",
      "Z19_L126.4766233_B37.4801842.png  finished!\n",
      "> <ipython-input-1-d3de0c6139a2>(8)<module>()\n",
      "-> for img_name in os.listdir(img_dir):\n",
      "(Pdb) next\n",
      "> <ipython-input-1-d3de0c6139a2>(9)<module>()\n",
      "-> if not img_name[-4:] in ['.jpg','.png','.tif']:\n",
      "(Pdb) next\n",
      "> <ipython-input-1-d3de0c6139a2>(11)<module>()\n",
      "-> img = cv2.imread('%s/%s'%(img_dir,img_name))\n",
      "(Pdb) os.listdir(img_dir)\n",
      "['add', 'Z19_L126.4766233_B37.4801842.png', 'Z19_L126.5637707_B33.47772032.png', 'Z19_L126.7290268_B37.54466457.png', 'Z19_L126.8790449_B35.18431457.png', 'Z19_L127.4225183_B36.64916081.png', 'Z19_L127.5642484_B34.79676793.png', 'Z19_L128.6484572_B35.88401725.png', 'Z19_L128.9196151_B35.16169552.png', 'Z19_L129.2890219_B35.53104622.png', 'Z19_L129.3611974_B36.02186752.png', 'Z19_L48.8073893526_B31.283954881.png', 'Z19_L50.8346718_B28.90717039.png', 'Z19_L51.20226268_B35.42795192.png', 'Z19_L51.76887013_B32.8259376.png', 'Z19_L52.52300044_B29.60759533.png', 'Z19_L56.32398456_B27.18451324.png', 'Z19_L88.41749017_B22.51997342.png', 'Z19_L91.85678189_B22.31111347.png']\n"
     ]
    }
   ],
   "source": [
    "import cv2\n",
    "import os\n",
    "import numpy as np\n",
    "from matplotlib import pyplot as plt\n",
    "import pdb\n",
    "img_dir = r'D:\\data\\AE176_CD_20170704\\img\\add_circle_L19'\n",
    "save_dir = r'D:\\data\\AE176_CD_20170704\\img\\add_circle_L19\\add'\n",
    "for img_name in os.listdir(img_dir):\n",
    "    if not img_name[-4:] in ['.jpg','.png','.tif']:\n",
    "        continue\n",
    "    img = cv2.imread('%s/%s'%(img_dir,img_name))\n",
    "    # plt.imshow(img,'brg')\n",
    "    # img = np.zeros((512,512,3),np.uint8)#生成一个空彩色图像\n",
    "    cv2.circle(img,(255,255),30,(0,0,255),2)#修改最后一个参数\n",
    "    cv2.circle(img,(255,255),5,(0,0,255),1)#修改最后一个参数\n",
    "    # plt.imshow(img,'brg')\n",
    "    # cv2.imshow(\"Circle\",img)\n",
    "    pdb.set_trace()\n",
    "    cv2.imwrite('%s/%s_label%s'%(save_dir,img_name[:-4],img_name[-4:]),img)\n",
    "    print(img_name+'  finished!')"
   ]
  }
 ],
 "metadata": {
  "kernelspec": {
   "display_name": "Python 3",
   "language": "python",
   "name": "python3"
  },
  "language_info": {
   "codemirror_mode": {
    "name": "ipython",
    "version": 3
   },
   "file_extension": ".py",
   "mimetype": "text/x-python",
   "name": "python",
   "nbconvert_exporter": "python",
   "pygments_lexer": "ipython3",
   "version": "3.6.6"
  }
 },
 "nbformat": 4,
 "nbformat_minor": 2
}
