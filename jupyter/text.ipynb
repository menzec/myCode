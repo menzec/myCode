{
 "cells": [
  {
   "cell_type": "code",
   "execution_count": 1,
   "metadata": {},
   "outputs": [],
   "source": [
    "'''\n",
    "通过网页链接，获取网页源码主要信息\n",
    "'''\n",
    "def get_main_info(url):\n",
    "    s = requests.Session()\n",
    "    url = self.url\n",
    "    s.headers['User-Agent'] = 'Mozilla/5.0 (Windows NT 10.0; Win64; x64) AppleWebKit/537.36 (KHTML, like Gecko) Chrome/66.0.3359.139 Safari/537.36'\n",
    "    r = s.get(url)\n",
    "    r.encoding = 'gbk2312'\n",
    "    rawhtml = r.text\n",
    "    soup = BeautifulSoup(rawhtml, 'html.parser')\n",
    "    # soup\n",
    "    main = soup.find(attrs = {\"class\":\"main-content\"})\n",
    "    return soup,main"
   ]
  },
  {
   "cell_type": "code",
   "execution_count": null,
   "metadata": {},
   "outputs": [],
   "source": [
    "'''\n",
    "获取保护区的名称和简介以及目录\n",
    "'''\n",
    "def get_title_summary_catlog(soup):\n",
    "    title = soup.find(\"dd\",attrs = {\"class\":\"lemmaWgt-lemmaTitle-title\"})\n",
    "    res_name = title.h1.text\n",
    "    summary = soup.find(\"div\",attrs = {\"class\":\"lemma-summary\"})\n",
    "    res_sum = summary.text\n",
    "    catlist = []\n",
    "    catlog = soup.find_all(\"li\",attrs = {\"class\":\"level1\"})\n",
    "    for cat in catlog:\n",
    "        catlist.append(cat.a.text)\n",
    "    return res_name,res_sum,catlist"
   ]
  },
  {
   "cell_type": "code",
   "execution_count": 2,
   "metadata": {},
   "outputs": [],
   "source": [
    "'''\n",
    "清洗主要信息，去除空行\n",
    "'''\n",
    "def get_new_main(main):\n",
    "    # print(all_para[-1])\n",
    "    new_main = []\n",
    "    for son in main.contents:\n",
    "        if son != \"\\n\":\n",
    "            new_main.append(son)\n",
    "    # new_main\n",
    "    return new_main\n"
   ]
  },
  {
   "cell_type": "code",
   "execution_count": 3,
   "metadata": {},
   "outputs": [],
   "source": [
    "'''\n",
    "从主要信息中获取每个一级目录的索引\n",
    "'''\n",
    "def level_1_index(new_main):\n",
    "    all_para = main.find_all(\"div\",class_ = \"para\")\n",
    "    last_para = new_main.index(all_para[-1])\n",
    "    # print(last_para)\n",
    "    deadline = last_para+1\n",
    "    # print(deadline)\n",
    "    num = 0\n",
    "    wang = []\n",
    "    for i in new:\n",
    "        try:\n",
    "            if i.attrs['class'] == ['para-title', 'level-2']:\n",
    "    #             print(i)\n",
    "    #             print(num)\n",
    "\n",
    "                wang.append(num)\n",
    "        except KeyError:\n",
    "            pass\n",
    "        num+=1\n",
    "    wang.append(deadline)\n",
    "    # print(wang)\n",
    "    return wang"
   ]
  },
  {
   "cell_type": "code",
   "execution_count": 4,
   "metadata": {},
   "outputs": [],
   "source": [
    "'''\n",
    "获取总的段落文本\n",
    "'''\n",
    "def text_para(wang):\n",
    "    zong = []\n",
    "    i = 0\n",
    "    while i < len(wang)-1:\n",
    "        ddd = new[wang[i]+1:wang[i+1]]\n",
    "        zong.append(ddd)\n",
    "        i+=1\n",
    "    # print(zong)\n",
    "    return zong"
   ]
  },
  {
   "cell_type": "code",
   "execution_count": 5,
   "metadata": {},
   "outputs": [],
   "source": [
    "'''\n",
    "获取包括小标题在内的全部文本\n",
    "'''\n",
    "def all_text(zong):\n",
    "    for level_2 in zong:\n",
    "        for son_tag in level_2:\n",
    "            if son_tag.name == \"div\":\n",
    "                if son_tag.attrs['class'] == ['para-title', 'level-3']:\n",
    "                    for bitch in son_tag.h3:\n",
    "                        if type(bitch) == bs4.element.NavigableString:\n",
    "                            bitch_1 = bitch+\" \"\n",
    "                            return bitch_1\n",
    "#                             print(bitch)\n",
    "                elif son_tag.b is not None:\n",
    "                    bitch_2 = son_tag.b.text+\" \"\n",
    "                    return bitch_2\n",
    "#                     print(son_tag.b.text)\n",
    "            for erzi in son_tag:\n",
    "                if type(erzi) == bs4.element.NavigableString:\n",
    "                    if erzi != \"\\n\":\n",
    "                        bitch_3 = \"\\n\"+erzi\n",
    "                        return bitch_3\n",
    "#                         print(erzi)\n",
    "        part = bitch_1+bitch_2+bitch_3+\"\\n\"\n",
    "        return part"
   ]
  },
  {
   "cell_type": "code",
   "execution_count": null,
   "metadata": {},
   "outputs": [],
   "source": [
    "def project(url):\n",
    "    self.get_main_info(url)\n",
    "    get_new_main(main)\n",
    "    level_1_index(new_main)\n",
    "    text_para(wang)\n",
    "    all_text(zong)\n",
    "    return "
   ]
  },
  {
   "cell_type": "code",
   "execution_count": 6,
   "metadata": {},
   "outputs": [],
   "source": [
    "import requests\n",
    "from bs4 import BeautifulSoup\n",
    "import os\n",
    "import re\n",
    "import bs4"
   ]
  },
  {
   "cell_type": "code",
   "execution_count": null,
   "metadata": {},
   "outputs": [],
   "source": []
  }
 ],
 "metadata": {
  "kernelspec": {
   "display_name": "Python 3",
   "language": "python",
   "name": "python3"
  },
  "language_info": {
   "codemirror_mode": {
    "name": "ipython",
    "version": 3
   },
   "file_extension": ".py",
   "mimetype": "text/x-python",
   "name": "python",
   "nbconvert_exporter": "python",
   "pygments_lexer": "ipython3",
   "version": "3.6.7"
  }
 },
 "nbformat": 4,
 "nbformat_minor": 2
}
