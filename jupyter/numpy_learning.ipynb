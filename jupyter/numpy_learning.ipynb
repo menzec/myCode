{
 "cells": [
  {
   "cell_type": "code",
   "execution_count": 2,
   "metadata": {},
   "outputs": [],
   "source": [
    "import numpy as np\n",
    "import os\n",
    "import sys"
   ]
  },
  {
   "cell_type": "code",
   "execution_count": 10,
   "metadata": {},
   "outputs": [
    {
     "data": {
      "text/plain": [
       "(1, 3)"
      ]
     },
     "execution_count": 10,
     "metadata": {},
     "output_type": "execute_result"
    }
   ],
   "source": [
    "array_test1 = np.array([1,2,3])\n",
    "array_test1.shape\n",
    "array_test2 =array_test1.reshape((1,-1))\n",
    "array_test2.shape"
   ]
  },
  {
   "cell_type": "code",
   "execution_count": 2,
   "metadata": {},
   "outputs": [
    {
     "ename": "NameError",
     "evalue": "name 'np' is not defined",
     "output_type": "error",
     "traceback": [
      "\u001b[1;31m---------------------------------------------------------------------------\u001b[0m",
      "\u001b[1;31mNameError\u001b[0m                                 Traceback (most recent call last)",
      "\u001b[1;32m<ipython-input-2-e3d783ee6f4e>\u001b[0m in \u001b[0;36m<module>\u001b[1;34m()\u001b[0m\n\u001b[1;32m----> 1\u001b[1;33m \u001b[0marray_test3\u001b[0m \u001b[1;33m=\u001b[0m \u001b[0mnp\u001b[0m\u001b[1;33m.\u001b[0m\u001b[0marray\u001b[0m\u001b[1;33m(\u001b[0m\u001b[1;33m[\u001b[0m\u001b[1;36m1\u001b[0m\u001b[1;33m,\u001b[0m\u001b[1;36m2\u001b[0m\u001b[1;33m,\u001b[0m\u001b[1;36m3\u001b[0m\u001b[1;33m,\u001b[0m\u001b[1;36m4\u001b[0m\u001b[1;33m,\u001b[0m\u001b[1;36m5\u001b[0m\u001b[1;33m,\u001b[0m\u001b[1;36m6\u001b[0m\u001b[1;33m]\u001b[0m\u001b[1;33m)\u001b[0m\u001b[1;33m\u001b[0m\u001b[0m\n\u001b[0m\u001b[0;32m      2\u001b[0m \u001b[0marray_test3\u001b[0m\u001b[1;33m.\u001b[0m\u001b[0mshape\u001b[0m\u001b[1;33m\u001b[0m\u001b[0m\n\u001b[0;32m      3\u001b[0m \u001b[0marray_test4\u001b[0m \u001b[1;33m=\u001b[0m \u001b[0marray_test3\u001b[0m\u001b[1;33m.\u001b[0m\u001b[0mreshape\u001b[0m\u001b[1;33m(\u001b[0m\u001b[1;33m(\u001b[0m\u001b[1;36m2\u001b[0m\u001b[1;33m,\u001b[0m\u001b[1;33m-\u001b[0m\u001b[1;36m1\u001b[0m\u001b[1;33m)\u001b[0m\u001b[1;33m)\u001b[0m\u001b[1;33m\u001b[0m\u001b[0m\n\u001b[0;32m      4\u001b[0m \u001b[1;31m#print(array_test4.shape)\u001b[0m\u001b[1;33m\u001b[0m\u001b[1;33m\u001b[0m\u001b[0m\n\u001b[0;32m      5\u001b[0m \u001b[1;31m#print(array_test4)\u001b[0m\u001b[1;33m\u001b[0m\u001b[1;33m\u001b[0m\u001b[0m\n",
      "\u001b[1;31mNameError\u001b[0m: name 'np' is not defined"
     ]
    }
   ],
   "source": [
    "array_test3 = np.array([1,2,3,4,5,6])\n",
    "array_test3.shape\n",
    "array_test4 = array_test3.reshape((2,-1))\n",
    "#print(array_test4.shape)\n",
    "#print(array_test4)\n",
    "array_test4 = array_test3.reshape((-1,2))\n",
    "#print(array_test4.shape)\n",
    "#print(array_test4)"
   ]
  },
  {
   "cell_type": "markdown",
   "metadata": {},
   "source": [
    "## 特殊构造函数"
   ]
  },
  {
   "cell_type": "code",
   "execution_count": null,
   "metadata": {},
   "outputs": [],
   "source": [
    "a = np.zeros((2,2))\n",
    "b = np.full((2,2),1)\n",
    "c = np.ones((2,3))\n",
    "d = np.eye(3)\n",
    "e = np.random.random((3,3))\n",
    "e"
   ]
  },
  {
   "cell_type": "markdown",
   "metadata": {},
   "source": [
    "## 切片"
   ]
  },
  {
   "cell_type": "code",
   "execution_count": 5,
   "metadata": {},
   "outputs": [
    {
     "data": {
      "text/plain": [
       "array([[ 1,  2, 13,  4],\n",
       "       [ 4,  5, 16,  7],\n",
       "       [ 8,  9, 20, 11]])"
      ]
     },
     "execution_count": 5,
     "metadata": {},
     "output_type": "execute_result"
    }
   ],
   "source": [
    "a= np.array([[1,2,3,4],\n",
    "           [4,5,6,7],\n",
    "           [8,9,10,11]])\n",
    "a[-2:,1:3]\n",
    "a[-2,-2]\n",
    "a[np.arange(3),2]+=10\n",
    "a"
   ]
  },
  {
   "cell_type": "code",
   "execution_count": 6,
   "metadata": {},
   "outputs": [
    {
     "data": {
      "text/plain": [
       "array([12, 15, 19])"
      ]
     },
     "execution_count": 6,
     "metadata": {},
     "output_type": "execute_result"
    }
   ],
   "source": [
    "b=a[np.arange(3),[1,1,1]]+10\n",
    "b"
   ]
  },
  {
   "cell_type": "markdown",
   "metadata": {},
   "source": [
    "## 数据类型"
   ]
  },
  {
   "cell_type": "code",
   "execution_count": 7,
   "metadata": {},
   "outputs": [
    {
     "name": "stdout",
     "output_type": "stream",
     "text": [
      "float64\n",
      "int64\n",
      "int32\n"
     ]
    }
   ],
   "source": [
    "b = np.array([1.11,2])\n",
    "print(b.dtype)\n",
    "b=np.array([1.11,2],dtype= np.int64)\n",
    "print(b.dtype)\n",
    "b = np.array(a,dtype = np.int32)\n",
    "print(b.dtype)"
   ]
  },
  {
   "cell_type": "markdown",
   "metadata": {},
   "source": [
    "# 数学运算与常用函数"
   ]
  },
  {
   "cell_type": "code",
   "execution_count": 3,
   "metadata": {},
   "outputs": [
    {
     "data": {
      "text/plain": [
       "array([[ 6,  8],\n",
       "       [10, 12]])"
      ]
     },
     "execution_count": 3,
     "metadata": {},
     "output_type": "execute_result"
    }
   ],
   "source": [
    "a = np.array([[1,2],\n",
    "            [3,4]])\n",
    "b= np.array([[5,6],\n",
    "           [7,8]])\n",
    "a+b"
   ]
  },
  {
   "cell_type": "code",
   "execution_count": 39,
   "metadata": {
    "scrolled": false
   },
   "outputs": [
    {
     "name": "stdout",
     "output_type": "stream",
     "text": [
      "[[ 1.  1.]\n",
      " [11. 11.]]\n"
     ]
    }
   ],
   "source": [
    "b= np.array([[5,6],\n",
    "           [7,8]])\n",
    "c= np.zeros((b.shape),dtype='double')\n",
    "c[1,0:2]=10\n",
    "c+=1\n",
    "print(c)"
   ]
  },
  {
   "cell_type": "markdown",
   "metadata": {},
   "source": [
    "# 测试"
   ]
  },
  {
   "cell_type": "code",
   "execution_count": 48,
   "metadata": {
    "scrolled": true
   },
   "outputs": [
    {
     "name": "stdout",
     "output_type": "stream",
     "text": [
      "[0. 0. 0.]\n",
      "[1.00000e+00 1.00000e+00 9.99999e+05]\n",
      "[[1.00000e+00 1.00000e+00 9.99999e+05]\n",
      " [1.00000e+00 1.00000e+00 9.99999e+05]\n",
      " [9.99999e+05 9.99999e+05 9.99999e+05]]\n"
     ]
    }
   ],
   "source": [
    "in_img = np.ones((5, 5))\n",
    "rows, cols = in_img.shape\n",
    "cal_img = np.zeros(\n",
    "    (rows + 2, rows + 2), dtype='float32')\n",
    "for row in range(1, rows + 1):\n",
    "    cal_img[row, 1:cols+1] = in_img[row-1, :]\n",
    "cal_img[0, :] = 999999\n",
    "cal_img[rows + 1, :] = 999999\n",
    "cal_img[:, 0] = 999999\n",
    "cal_img[:, cols + 1] = 999999\n",
    "sub_cal = np.zeros((3, 3), dtype=cal_img.dtype)\n",
    "print(sub_cal[0, :])\n",
    "row = cols\n",
    "col=rows\n",
    "print(cal_img[row, col - 1:col + 2])\n",
    "sub_cal[0, :] = cal_img[row - 1, col - 1:col + 2]\n",
    "sub_cal[1, :] = cal_img[row, col - 1:col +2]\n",
    "sub_cal[2, :] = cal_img[row + 1, col - 1:col + 2]\n",
    "print(sub_cal)"
   ]
  },
  {
   "cell_type": "code",
   "execution_count": null,
   "metadata": {},
   "outputs": [],
   "source": [
    "dirValue = np.array([[]])\n",
    "rows, cols = dirValue.shape\n",
    "center_value = dirValue[1, 1]\n",
    "distance = np.zeors((dirValue.shape), dtype='float32')\n",
    "for row in range(rows):\n",
    "    for col in range(cols):\n",
    "        if dirValue[row, col] > center_value:\n",
    "            distance[row, col] = (\n",
    "                dirValue[row, col] - center_value) / ((row - 1) * (row - 1) + (col - 1) * (col - 1))\n",
    "print(max[distance])"
   ]
  },
  {
   "cell_type": "code",
   "execution_count": 1,
   "metadata": {},
   "outputs": [
    {
     "data": {
      "text/plain": [
       "1"
      ]
     },
     "execution_count": 1,
     "metadata": {},
     "output_type": "execute_result"
    }
   ],
   "source": [
    "direction= [1,2,4,8,16,-1,32,128]\n",
    "index_1 = 0\n",
    "direction[index_1]"
   ]
  }
 ],
 "metadata": {
  "kernelspec": {
   "display_name": "Python 3",
   "language": "python",
   "name": "python3"
  },
  "language_info": {
   "codemirror_mode": {
    "name": "ipython",
    "version": 3
   },
   "file_extension": ".py",
   "mimetype": "text/x-python",
   "name": "python",
   "nbconvert_exporter": "python",
   "pygments_lexer": "ipython3",
   "version": "3.6.6"
  }
 },
 "nbformat": 4,
 "nbformat_minor": 2
}
