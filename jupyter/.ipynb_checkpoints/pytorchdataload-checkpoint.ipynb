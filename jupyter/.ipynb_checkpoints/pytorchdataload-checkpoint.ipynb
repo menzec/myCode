{
 "cells": [
  {
   "cell_type": "code",
   "execution_count": 8,
   "metadata": {},
   "outputs": [],
   "source": [
    "from __future__ import print_function, division\n",
    "import os\n",
    "import torch\n",
    "import pandas as pd\n",
    "from skimage import io, transform\n",
    "import numpy as np\n",
    "import matplotlib.pyplot as plt\n",
    "from torch.utils.data import Dataset, DataLoader\n",
    "from torchvision import transforms, utils"
   ]
  },
  {
   "cell_type": "code",
   "execution_count": 9,
   "metadata": {},
   "outputs": [],
   "source": [
    "filename = r'D:\\data\\faces\\faces\\face_landmarks.csv'\n",
    "landmarks_frame = pd.read_csv(open(filename,'r'))"
   ]
  },
  {
   "cell_type": "code",
   "execution_count": 15,
   "metadata": {},
   "outputs": [
    {
     "name": "stderr",
     "output_type": "stream",
     "text": [
      "C:\\SoftWare\\Study\\Anaconda3\\lib\\site-packages\\ipykernel_launcher.py:3: FutureWarning: Method .as_matrix will be removed in a future version. Use .values instead.\n",
      "  This is separate from the ipykernel package so we can avoid doing imports until\n"
     ]
    },
    {
     "data": {
      "text/plain": [
       "array([[ 32.,  65.],\n",
       "       [ 33.,  76.],\n",
       "       [ 34.,  86.],\n",
       "       [ 34.,  97.],\n",
       "       [ 37., 107.],\n",
       "       [ 41., 116.],\n",
       "       [ 50., 122.],\n",
       "       [ 61., 126.],\n",
       "       [ 72., 127.],\n",
       "       [ 83., 126.],\n",
       "       [ 95., 123.],\n",
       "       [107., 119.],\n",
       "       [115., 111.],\n",
       "       [118., 101.],\n",
       "       [120.,  91.],\n",
       "       [122.,  80.],\n",
       "       [122.,  68.],\n",
       "       [ 39.,  52.],\n",
       "       [ 45.,  46.],\n",
       "       [ 53.,  44.],\n",
       "       [ 61.,  46.],\n",
       "       [ 68.,  49.],\n",
       "       [ 82.,  49.],\n",
       "       [ 90.,  45.],\n",
       "       [ 98.,  44.],\n",
       "       [106.,  46.],\n",
       "       [112.,  52.],\n",
       "       [ 74.,  57.],\n",
       "       [ 74.,  63.],\n",
       "       [ 74.,  69.],\n",
       "       [ 74.,  75.],\n",
       "       [ 67.,  83.],\n",
       "       [ 70.,  84.],\n",
       "       [ 74.,  85.],\n",
       "       [ 78.,  84.],\n",
       "       [ 82.,  83.],\n",
       "       [ 47.,  61.],\n",
       "       [ 51.,  57.],\n",
       "       [ 58.,  57.],\n",
       "       [ 63.,  61.],\n",
       "       [ 57.,  63.],\n",
       "       [ 51.,  63.],\n",
       "       [ 87.,  62.],\n",
       "       [ 93.,  58.],\n",
       "       [ 98.,  58.],\n",
       "       [103.,  61.],\n",
       "       [ 99.,  63.],\n",
       "       [ 93.,  63.],\n",
       "       [ 55.,  98.],\n",
       "       [ 63.,  96.],\n",
       "       [ 70.,  94.],\n",
       "       [ 75.,  95.],\n",
       "       [ 80.,  94.],\n",
       "       [ 86.,  95.],\n",
       "       [ 94.,  99.],\n",
       "       [ 86., 103.],\n",
       "       [ 79., 105.],\n",
       "       [ 74., 105.],\n",
       "       [ 69., 105.],\n",
       "       [ 62., 103.],\n",
       "       [ 58.,  99.],\n",
       "       [ 70.,  98.],\n",
       "       [ 74.,  98.],\n",
       "       [ 79.,  98.],\n",
       "       [ 91.,  99.],\n",
       "       [ 79.,  99.],\n",
       "       [ 74.,  99.],\n",
       "       [ 69.,  99.]])"
      ]
     },
     "execution_count": 15,
     "metadata": {},
     "output_type": "execute_result"
    }
   ],
   "source": [
    "n = 65\n",
    "img_name = landmarks_frame.iloc[n, 0]\n",
    "landmarks = landmarks_frame.iloc[n, 1:5].as_matrix()\n",
    "landmarks = landmarks.astype('float').reshape(-1,2)\n",
    "landmarks"
   ]
  },
  {
   "cell_type": "code",
   "execution_count": null,
   "metadata": {},
   "outputs": [],
   "source": []
  }
 ],
 "metadata": {
  "kernelspec": {
   "display_name": "Python 3",
   "language": "python",
   "name": "python3"
  },
  "language_info": {
   "codemirror_mode": {
    "name": "ipython",
    "version": 3
   },
   "file_extension": ".py",
   "mimetype": "text/x-python",
   "name": "python",
   "nbconvert_exporter": "python",
   "pygments_lexer": "ipython3",
   "version": "3.6.7"
  }
 },
 "nbformat": 4,
 "nbformat_minor": 2
}
