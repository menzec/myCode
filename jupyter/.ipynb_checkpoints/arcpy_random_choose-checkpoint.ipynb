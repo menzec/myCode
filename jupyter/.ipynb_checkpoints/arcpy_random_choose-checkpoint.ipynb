{
 "cells": [
  {
   "cell_type": "code",
   "execution_count": 3,
   "metadata": {},
   "outputs": [],
   "source": [
    "import sys\n",
    "import os\n",
    "import arcpy\n",
    "import pdb\n",
    "from arcpy import env"
   ]
  },
  {
   "cell_type": "code",
   "execution_count": null,
   "metadata": {},
   "outputs": [],
   "source": [
    "def create_choose_list(xy_list, threshold, corr_index = 1, sor_index = 0):\n",
    "    xy_dict = {}\n",
    "    del_num= 0\n",
    "    for xy in xy_list:\n",
    "        corr = xy[corr_index][sor_index]\n",
    "        if corr < int(corr) + threshold[0] or corr > int(corr) + threshold[1]:\n",
    "            del_num += 1\n",
    "            continue\n",
    "        key = str(int(xy_list[corr_index][sor_index]))\n",
    "        xy_dict.setdefault(key, [])\n",
    "        xy_dict[key].append(xy)\n",
    "    pdb.set_trace()\n",
    "    print('del_num:',del_num)\n",
    "    def get_sort(item):\n",
    "        return item[corr_index][1]\n",
    "    for key,value in xy_dict.items():\n",
    "        xy_dict[key].sort(key=get_sort)\n",
    "    return xy_dict\n",
    "\n",
    "def choose_num(dict_info,num):\n",
    "    num_list=[]\n",
    "    interval = 0.2\n",
    "    def test_choose():\n",
    "        for key,value in dict_info.items():\n",
    "            start = dict_info[key][1][1]\n",
    "            for start_cor in dict_info[key]:\n",
    "                if start_cor[1] >= start:\n",
    "                    num_list.append(start_cor)\n",
    "                    start += interval\n",
    "    while abs(len(num_list)-num)>num*0.05:\n",
    "        interval = interval*abs(len(num_list)-num)/num\n",
    "        test_choose()\n",
    "\n",
    "\n",
    "def random_get_feature(input_shp, get_num):\n",
    "    num = 0\n",
    "    count = 0\n",
    "    # get field name of shapefile\n",
    "    fieldList = [f.name for f in arcpy.ListFields(input_shp)]\n",
    "    fieldList[1] = 'SHAPE@'\n",
    "    polygon_list = []\n",
    "    for row in arcpy.da.SearchCursor(input_shp, ['OID@', 'SHAPE@XY']):\n",
    "        num += 1\n",
    "        polygon_list.append(row)\n",
    "    print(len(polygon_list))\n",
    "    cor_dict = create_choose_list(polygon_list, (0.2,0.8), corr_index = 1, sor_index = 0)\n",
    "    for key in cor_dict.keys():\n",
    "        print('%s:%d'%(key,len(cor_dict[key])))\n",
    "    pdb.set_trace()\n",
    "    interval = float(num) / float(get_num)\n",
    "    data = arcpy.da.SearchCursor(input_shp, field_names=fieldList)\n",
    "    new_shp = arcpy.da.InsertCursor(\n",
    "        '%s/%s' % (out_path, out_name), field_names=fieldList)\n",
    "    next_flag = interval\n",
    "    # for row in data:\n",
    "    #     count += 1\n",
    "    #     if count > next_flag:\n",
    "    #         next_flag += interval\n",
    "    #         new_shp.insertRow(row)\n",
    "    print(\"finished\")\n",
    "    print(row)\n",
    "    print(row[1])\n",
    "\n",
    "def main():\n",
    "    print('main process')\n",
    "    input_shp = r'D:\\NGCC\\zheng\\men\\complete_within.shp'\n",
    "    random_get_feature(input_shp, 500)\n",
    "\n",
    "if __name__ == '__main__':\n",
    "    main()"
   ]
  },
  {
   "cell_type": "code",
   "execution_count": 17,
   "metadata": {},
   "outputs": [
    {
     "name": "stdout",
     "output_type": "stream",
     "text": [
      "<type 'int'>\n"
     ]
    },
    {
     "data": {
      "text/plain": [
       "151992"
      ]
     },
     "execution_count": 17,
     "metadata": {},
     "output_type": "execute_result"
    }
   ],
   "source": [
    "a = 152003 \n",
    "b= 500\n",
    "c = a/b\n",
    "print(type(c))\n",
    "c\n",
    "12666*12"
   ]
  }
 ],
 "metadata": {
  "kernelspec": {
   "display_name": "Python 2",
   "language": "python",
   "name": "python2"
  },
  "language_info": {
   "codemirror_mode": {
    "name": "ipython",
    "version": 2
   },
   "file_extension": ".py",
   "mimetype": "text/x-python",
   "name": "python",
   "nbconvert_exporter": "python",
   "pygments_lexer": "ipython2",
   "version": "2.7.15"
  }
 },
 "nbformat": 4,
 "nbformat_minor": 2
}
