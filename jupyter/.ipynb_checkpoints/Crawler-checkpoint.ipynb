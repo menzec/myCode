{
 "cells": [
  {
   "cell_type": "code",
   "execution_count": 2,
   "metadata": {},
   "outputs": [],
   "source": [
    "# import urllib.request\n",
    "import os\n",
    "import sys\n",
    "import requests"
   ]
  },
  {
   "cell_type": "code",
   "execution_count": 5,
   "metadata": {},
   "outputs": [
    {
     "name": "stdout",
     "output_type": "stream",
     "text": [
      "200\n",
      "ISO-8859-1\n",
      "utf-8\n",
      "{'user-agent': 'Mozilla/5.0 (Windows NT 10.0; Win64; x64) AppleWebKit/537.36 (KHTML, like Gecko) Chrome/67.0.3396.62 Safari/537.36', 'Accept-Encoding': 'gzip, deflate', 'Accept': '*/*', 'Connection': 'keep-alive'}\n"
     ]
    }
   ],
   "source": [
    "url= 'https://www.baidu.com'\n",
    "kv={'user-agent':'Mozilla/5.0 (Windows NT 10.0; Win64; x64) AppleWebKit/537.36 (KHTML, like Gecko) Chrome/67.0.3396.62 Safari/537.36'}\n",
    "try:\n",
    "    r = requests.get(url,headers=kv)\n",
    "    r.raise_for_status()\n",
    "    print(r.status_code)\n",
    "    print(r.encoding)\n",
    "    print(r.apparent_encoding)\n",
    "    print(r.request.headers)\n",
    "except requests.HTTPError:\n",
    "    print(type(requests.HTTPError))"
   ]
  },
  {
   "cell_type": "code",
   "execution_count": 4,
   "metadata": {
    "scrolled": false
   },
   "outputs": [
    {
     "name": "stdout",
     "output_type": "stream",
     "text": [
      "http://httpbin.org/get?k1=v1&k2=k2&k3=v3&k3=vv3\n"
     ]
    }
   ],
   "source": [
    "# response_get = requests.get(\"http://www.baidu.com\")\n",
    "# print(response_get.status_code)\n",
    "# print(type(response_get))\n",
    "# print(response_get.encoding)\n",
    "# response_head=requests.head('http://www.baidu.com')\n",
    "# print('response_head.text:',response_head.text)\n",
    "# print('response_get.text:',response_get.text)\n",
    "# print(response.apparent_encoding)\n",
    "# response.encoding =response.apparent_encoding\n",
    "# print(response.text).\n",
    "payload = bytes(\"k1=v1&k2=k2&k3=v3&k3=vv3\", encoding='utf8')\n",
    "params=\"k1=v1&k2=水电费&k3=v3&k3=vv3\"\n",
    "# params={'k1': 'v1', 'k2': '水电费'}\n",
    "# params=bytes(\"k1=v1&k2='水电费'&k3=v3&k3=vv3\", encoding='utf8')\n",
    "# pro = {'User-Agent':'chrome/10'}\n",
    "ret = requests.get(\"http://httpbin.org/get\", params=payload)\n",
    "print(ret.request.url)\n"
   ]
  },
  {
   "cell_type": "code",
   "execution_count": 19,
   "metadata": {
    "scrolled": true
   },
   "outputs": [
    {
     "name": "stdout",
     "output_type": "stream",
     "text": [
      "gbk\n",
      "GB2312\n",
      "{'User-Agent': 'python-requests/2.19.1', 'Accept-Encoding': 'gzip, deflate', 'Accept': '*/*', 'Connection': 'keep-alive'}\n"
     ]
    }
   ],
   "source": [
    "url='https://item.jd.com/2967929.html'\n",
    "try:\n",
    "    r = requests.get(url)\n",
    "    r.raise_for_status()\n",
    "    r.status_code\n",
    "    print(r.encoding)\n",
    "    print(r.apparent_encoding)\n",
    "except:\n",
    "    print('Error')"
   ]
  },
  {
   "cell_type": "code",
   "execution_count": 27,
   "metadata": {
    "scrolled": true
   },
   "outputs": [
    {
     "name": "stdout",
     "output_type": "stream",
     "text": [
      "200\n",
      "ISO-8859-1\n",
      "utf-8\n",
      "{'user-agent': 'Mozilla/5.0', 'Accept-Encoding': 'gzip, deflate', 'Accept': '*/*', 'Connection': 'keep-alive'}\n",
      "\n",
      "\t<link rel=\"dns-prefetch\" href=\"//t1.baidu.com\"/>\n",
      "\t<link rel=\"dns-prefetch\" href=\"//t2.baidu.com\"/>\n",
      "\t<link rel=\"dns-prefetch\" href=\"//t3.baidu.com\"/>\n",
      "\t<link rel=\"dns-prefetch\" href=\"//t10.baidu.com\"/>\n",
      "\t<link rel=\"dns-prefetch\" href=\"//t11.baidu.com\"/>\n",
      "\t<link rel=\"dns-prefetch\" href=\"//t12.baidu.com\"/>\n",
      "\t<link rel=\"dns-prefetch\" href=\"//b1.bdstatic.com\"/>\n",
      "    \n",
      "    <title>ç¾åº¦ä¸ä¸ï¼ä½ å°±ç¥é</title>\n",
      "    \n",
      "\n",
      "<style id=\"css_index\" index=\"index\" type=\"text/css\">html,body{height:100%}\n",
      "html{overf\n"
     ]
    }
   ],
   "source": [
    "url='http://www.baidu.com/'\n",
    "kv={'user-agent':'Mozilla/5.0'}\n",
    "try:\n",
    "    r = requests.get(url,headers=kv)\n",
    "    r.raise_for_status()\n",
    "    print(r.status_code)\n",
    "    print(r.encoding)\n",
    "    print(r.apparent_encoding)\n",
    "    print(r.request.headers)\n",
    "#     print(r.text[1000:1500])\n",
    "except:\n",
    "    print('Error')"
   ]
  },
  {
   "cell_type": "markdown",
   "metadata": {},
   "source": [
    "# 百度关键词提交\n",
    "www.baidu.com/s?wd=keyword\n",
    "www.so.com/s?q=keyword"
   ]
  },
  {
   "cell_type": "code",
   "execution_count": 4,
   "metadata": {
    "scrolled": true
   },
   "outputs": [
    {
     "name": "stdout",
     "output_type": "stream",
     "text": [
      "http://www.baidu.com/s?wd=Python\n",
      "200\n",
      "253384\n"
     ]
    }
   ],
   "source": [
    "url = 'http://www.baidu.com/s'\n",
    "params = {'wd':'Python'}\n",
    "try:\n",
    "    r = requests.get(url,params=params)\n",
    "    r.raise_for_status()\n",
    "    print(r.request.url)\n",
    "    print(r.status_code)\n",
    "    print(len(r.text)) \n",
    "except:\n",
    "    print('Error')"
   ]
  },
  {
   "cell_type": "markdown",
   "metadata": {},
   "source": [
    "# 图片的爬取和存储"
   ]
  },
  {
   "cell_type": "code",
   "execution_count": 44,
   "metadata": {},
   "outputs": [
    {
     "name": "stdout",
     "output_type": "stream",
     "text": [
      "200\n"
     ]
    }
   ],
   "source": [
    "path ='D:/data/requests.jpg'\n",
    "url = 'https://images-na.ssl-images-amazon.com/images/I/41C9U6RDdSL._SX340_BO1,204,203,200_.jpg'\n",
    "try:\n",
    "    r=requests.get(url)\n",
    "    r.raise_for_status()\n",
    "    print(r.status_code)\n",
    "    with open(path,'wb') as f:\n",
    "        f.write(r.content)\n",
    "except:\n",
    "    print(r.text[200:1200])\n",
    "    print(\"Error\")"
   ]
  },
  {
   "cell_type": "markdown",
   "metadata": {},
   "source": [
    "# ip地址的归属地查询"
   ]
  },
  {
   "cell_type": "code",
   "execution_count": 2,
   "metadata": {
    "scrolled": true
   },
   "outputs": [
    {
     "name": "stdout",
     "output_type": "stream",
     "text": [
      "Error\n"
     ]
    }
   ],
   "source": [
    "url = 'http://m.ip138.com/ip.asp?'\n",
    "kv = {'ip':'202.112.208.3'}\n",
    "try:\n",
    "    r = requests.get(url,params)\n",
    "    r.raise_for_status()\n",
    "    print(r.status_code)\n",
    "#     print(r.text[-700:-150])\n",
    "except:\n",
    "    print('Error')\n",
    "        \n"
   ]
  },
  {
   "cell_type": "markdown",
   "metadata": {},
   "source": [
    "# beautiful soup 库"
   ]
  },
  {
   "cell_type": "code",
   "execution_count": 6,
   "metadata": {},
   "outputs": [],
   "source": [
    "import requests\n",
    "from bs4 import BeautifulSoup"
   ]
  },
  {
   "cell_type": "code",
   "execution_count": 9,
   "metadata": {},
   "outputs": [
    {
     "name": "stdout",
     "output_type": "stream",
     "text": [
      "<title>IP地址在线查询 m.ip138.com 查询网</title>\n",
      "li\n",
      "ul\n",
      "div\n",
      "<li><a href=\"/ip.html\">iP查询</a></li>\n",
      "li\n",
      "{}\n",
      "iP查询\n",
      "None\n",
      "Some\n",
      "[<a href=\"/ip.html\">iP查询</a>]\n"
     ]
    }
   ],
   "source": [
    "url = 'http://m.ip138.com/ip.asp?'\n",
    "params = {'ip': '202.112.208.3'}\n",
    "headers = {\n",
    "    'user-agent': 'Mozilla/5.0 (Windows NT 10.0; Win64; x64) AppleWebKit/537.36 (KHTML, like Gecko) Chrome/67.0.3396.62 Safari/537.36'}\n",
    "try:\n",
    "    r = requests.get(url, params=params, headers=headers)\n",
    "    demo = r.text\n",
    "    soup = BeautifulSoup(demo, 'html.parser')\n",
    "    print(soup.title)\n",
    "#     print(soup.prettify)\n",
    "    print(soup.li.name)\n",
    "    print(soup.li.parent.name)\n",
    "    print(soup.li.parent.parent.name)\n",
    "    tag = soup.li\n",
    "    print(tag)\n",
    "    print(tag.name)\n",
    "    print(tag.attrs)\n",
    "    print(tag.string)\n",
    "    print(tag.comment)\n",
    "    print('None' if None else 'Some')\n",
    "    print(tag.contents)\n",
    "except requests.HTTPError as err:\n",
    "    print(err)"
   ]
  },
  {
   "cell_type": "markdown",
   "metadata": {},
   "source": [
    "# html遍历方法\n",
    "##### html->head /title\n",
    "#####        body->p/a\n",
    "## 三种遍历方法：上行，下行，平行 遍历\n",
    "## 下行遍历\n",
    "### .contents 子节点的列表，将标签 <tag>所有儿子节点存入列表\n",
    "    .children 子节点的迭代类型,迭代器，与.contents 类似，用于循环遍历儿子节点,for in 迭代\n",
    "    .descendants子孙节点的迭代类型，包含所有子孙节点，用于循环遍历\n"
   ]
  },
  {
   "cell_type": "code",
   "execution_count": 34,
   "metadata": {},
   "outputs": [
    {
     "name": "stdout",
     "output_type": "stream",
     "text": [
      "[<meta content=\"text/html;charset=utf-8\" http-equiv=\"content-type\"/>, <meta content=\"IE=Edge\" http-equiv=\"X-UA-Compatible\"/>, <meta content=\"always\" name=\"referrer\"/>, <link href=\"http://s1.bdstatic.com/r/www/cache/bdorz/baidu.min.css\" rel=\"stylesheet\" type=\"text/css\"/>, <title>百度一下，你就知道</title>]\n"
     ]
    },
    {
     "data": {
      "text/plain": [
       "<meta content=\"text/html;charset=utf-8\" http-equiv=\"content-type\"/>"
      ]
     },
     "execution_count": 34,
     "metadata": {},
     "output_type": "execute_result"
    }
   ],
   "source": [
    "url ='http://www.baidu.com'\n",
    "r =requests.get(url)\n",
    "r.encoding = r.apparent_encoding\n",
    "demo = r.text\n",
    "soup = BeautifulSoup(demo,'html.parser')\n",
    "print(soup.head.contents)\n",
    "next(soup.head.descendants)\n",
    "# for child in soup.head.descendants:\n",
    "#     print(child)"
   ]
  },
  {
   "cell_type": "markdown",
   "metadata": {},
   "source": [
    "## 上行遍历\n",
    "### .parent 节点的父亲类型\n",
    "    .parents 先辈标签的迭代类型，用于循环遍历先辈节点\n",
    "    "
   ]
  },
  {
   "cell_type": "code",
   "execution_count": 36,
   "metadata": {
    "scrolled": true
   },
   "outputs": [
    {
     "data": {
      "text/plain": [
       "<head><meta content=\"text/html;charset=utf-8\" http-equiv=\"content-type\"/><meta content=\"IE=Edge\" http-equiv=\"X-UA-Compatible\"/><meta content=\"always\" name=\"referrer\"/><link href=\"http://s1.bdstatic.com/r/www/cache/bdorz/baidu.min.css\" rel=\"stylesheet\" type=\"text/css\"/><title>百度一下，你就知道</title></head>"
      ]
     },
     "execution_count": 36,
     "metadata": {},
     "output_type": "execute_result"
    }
   ],
   "source": [
    "soup.title.parent"
   ]
  },
  {
   "cell_type": "markdown",
   "metadata": {},
   "source": [
    "## 平行遍历\n",
    "### .next_sibling 下一个平行节点标签\n",
    ".previous_sibling 返回按照html文本顺序的上一个平行节点标签\n",
    ".next-sibling 迭代类型，后续所有平行节点标签\n",
    ".previous_siblings 迭代类型，前续所有平行节点标签"
   ]
  },
  {
   "cell_type": "code",
   "execution_count": 63,
   "metadata": {
    "scrolled": false
   },
   "outputs": [
    {
     "name": "stdout",
     "output_type": "stream",
     "text": [
      "['\\n', <li><a href=\"/ip.html\">iP查询</a></li>, '\\n', <li><a href=\"/mobile.html\">手机号码归属地查询</a></li>, '\\n', <li><a href=\"/huilv/\">汇率查询</a></li>, '\\n', <li><a href=\"/youbian/\">邮编区号查询</a></li>, '\\n', <li><a href=\"/kuaidi/\">快递查询</a></li>, '\\n', <li><a href=\"http://qq.ip138.com/tianqi/\">天气预报查询</a></li>, '\\n', <li><a href=\"http://qq.ip138.com/shenfenzheng/\">身份证号码查询</a></li>, '\\n', <li><a href=\"http://qq.ip138.com/huoche/\">列车时刻表查询</a></li>, '\\n', <li><a href=\"http://qq.ip138.com/daishoudian/mobile.htm\">火车票代售点查询</a></li>, '\\n']\n",
      "<li><a href=\"/ip.html\">iP查询</a></li>\n",
      "<li><a href=\"/mobile.html\">手机号码归属地查询</a></li>\n"
     ]
    }
   ],
   "source": [
    "soup.meta.next_sibling\n",
    "print(soup.li.parent.contents)\n",
    "print(soup.li)\n",
    "print(soup.li.next_sibling.next_sibling)"
   ]
  },
  {
   "cell_type": "markdown",
   "metadata": {},
   "source": [
    "# 基于bs4库的html的格式化和编码\n",
    "## 让html内容更友好地显示"
   ]
  },
  {
   "cell_type": "code",
   "execution_count": 12,
   "metadata": {},
   "outputs": [],
   "source": [
    "# print(soup.prettify())"
   ]
  },
  {
   "cell_type": "markdown",
   "metadata": {},
   "source": [
    "## 信息的标记"
   ]
  },
  {
   "cell_type": "code",
   "execution_count": 13,
   "metadata": {},
   "outputs": [],
   "source": [
    "import requests\n",
    "from bs4 import BeautifulSoup\n",
    "import re"
   ]
  },
  {
   "cell_type": "code",
   "execution_count": 16,
   "metadata": {
    "scrolled": true
   },
   "outputs": [
    {
     "name": "stdout",
     "output_type": "stream",
     "text": [
      "Error\n",
      "503\n"
     ]
    }
   ],
   "source": [
    "url ='http://www.xicidaili.com/wt/'\n",
    "headers= {'user-agent':'Mozilla/5.0 (Windows NT 10.0; Win64; x64) AppleWebKit/537.36 (KHTML, like Gecko) Chrome/67.0.3396.62 Safari/537.36'}\n",
    "try:\n",
    "    r = requests.request('get',url,headers=headers)\n",
    "    r.raise_for_status()\n",
    "    r.encoding  = r.apparent_encoding\n",
    "    demo = r.text\n",
    "    soup  = BeautifulSoup(r.text,'html.parser')\n",
    "    # for tag in soup.find_all(['a','body']):\n",
    "    #     print(tag.string)\n",
    "    print(soup)\n",
    "    for tag in soup.find_all(name = 'table'):\n",
    "        print(tag)\n",
    "except:\n",
    "    print('Error')\n",
    "    print(r.status_code)"
   ]
  },
  {
   "cell_type": "code",
   "execution_count": 8,
   "metadata": {},
   "outputs": [
    {
     "name": "stdout",
     "output_type": "stream",
     "text": [
      "2.001054525375366\n",
      "<class 'float'>\n",
      "2.001054525375366\n"
     ]
    }
   ],
   "source": [
    "# for x in range(116,117):\n",
    "#     print(x)\n",
    "import time\n",
    "import datetime\n",
    "# starttime = datetime.datetime.now()\n",
    "# time.sleep(2)\n",
    "# endtime = datetime.datetime.now()\n",
    "# print(int(datetime.datetime.strftime(starttime,'%S')))\n",
    "# t = time.time()\n",
    "# time.sleep(2)\n",
    "# print(time.time() - t)\n",
    "# print(type(time.time() - t))\n",
    "# print(time.time() - t)"
   ]
  },
  {
   "cell_type": "code",
   "execution_count": 18,
   "metadata": {},
   "outputs": [
    {
     "data": {
      "text/plain": [
       "1"
      ]
     },
     "execution_count": 18,
     "metadata": {},
     "output_type": "execute_result"
    }
   ],
   "source": [
    "files = r'D:\\data\\tongji\\image\\L_17-304\\tongji_coordinate10.0\\Z17_L102.754247_B-4.109736.jpg'\n",
    "os.path.getsize(files)\n",
    "list1 = [1,1,2]\n",
    "\n",
    "next(iter(list1))"
   ]
  },
  {
   "cell_type": "code",
   "execution_count": 19,
   "metadata": {},
   "outputs": [
    {
     "name": "stdout",
     "output_type": "stream",
     "text": [
      "['http://mt1.google.cn/vt', 1538911576.169026]\n",
      "['http://mt1.google.cn/vt', 1538911576.169026]\n"
     ]
    }
   ],
   "source": [
    "base_urls = [['http://www.google.cn/maps/vt', time.time()],\n",
    "             ['http://mt1.google.cn/vt', time.time()]]\n",
    "def change_url(base_urls, cur_url):\n",
    "    del base_urls[0]\n",
    "    base_urls.append([cur_url,time.time()])\n",
    "    print(base_urls[0])\n",
    "\n",
    "change_url(base_urls,base_urls[0][0])\n",
    "print(base_urls[0])"
   ]
  },
  {
   "cell_type": "code",
   "execution_count": 2,
   "metadata": {},
   "outputs": [
    {
     "name": "stdout",
     "output_type": "stream",
     "text": [
      "http://218.14.115.211:3128\n",
      "http://www.baidu.com/\n",
      "<!DOCTYPE html>\n",
      "<!--STATUS OK--><html> <head><meta http-equiv=content-type content=text/html;charset=utf-8><meta http-equiv=X-UA-Compatible content=IE=Edge><meta content=always name=referrer><link re\n"
     ]
    }
   ],
   "source": [
    "import requests\n",
    "\n",
    "ip, port = (\"218.14.115.211\",\"3128\")\n",
    "url = 'http://www.baidu.com/'\n",
    "proxy_url = \"http://{0}:{1}\".format(ip, port)\n",
    "\n",
    "print(proxy_url)\n",
    "\n",
    "proxy_dict = {\n",
    "    \"http\": proxy_url\n",
    "}\n",
    "\n",
    "r = requests.get(url, proxies=proxy_dict)\n",
    "print(r.request.url)\n",
    "print(r.text[:200])\n",
    "# html_doc = str(response.content, 'gbk')\n",
    "# print(html_doc.text[:100])"
   ]
  }
 ],
 "metadata": {
  "kernelspec": {
   "display_name": "Python 3",
   "language": "python",
   "name": "python3"
  },
  "language_info": {
   "codemirror_mode": {
    "name": "ipython",
    "version": 3
   },
   "file_extension": ".py",
   "mimetype": "text/x-python",
   "name": "python",
   "nbconvert_exporter": "python",
   "pygments_lexer": "ipython3",
   "version": "3.6.6"
  }
 },
 "nbformat": 4,
 "nbformat_minor": 2
}
